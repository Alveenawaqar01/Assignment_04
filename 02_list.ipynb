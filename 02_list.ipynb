{
  "nbformat": 4,
  "nbformat_minor": 0,
  "metadata": {
    "colab": {
      "provenance": [],
      "authorship_tag": "ABX9TyPYGx80afZHH3APQn3ERSXQ",
      "include_colab_link": true
    },
    "kernelspec": {
      "name": "python3",
      "display_name": "Python 3"
    },
    "language_info": {
      "name": "python"
    }
  },
  "cells": [
    {
      "cell_type": "markdown",
      "metadata": {
        "id": "view-in-github",
        "colab_type": "text"
      },
      "source": [
        "<a href=\"https://colab.research.google.com/github/Alveenawaqar01/Assignment_04/blob/main/02_list.ipynb\" target=\"_parent\"><img src=\"https://colab.research.google.com/assets/colab-badge.svg\" alt=\"Open In Colab\"/></a>"
      ]
    },
    {
      "cell_type": "markdown",
      "source": [
        "**01**"
      ],
      "metadata": {
        "id": "HZ-d6CvoKM18"
      }
    },
    {
      "cell_type": "code",
      "source": [
        "def sum_numbers(numbers):\n",
        "    total = 0\n",
        "    for num in numbers:\n",
        "        total += num\n",
        "    return total\n",
        "\n"
      ],
      "metadata": {
        "id": "STLx6pmOKSzd"
      },
      "execution_count": null,
      "outputs": []
    },
    {
      "cell_type": "markdown",
      "source": [
        "**02**"
      ],
      "metadata": {
        "id": "gwv7CEQTKaHo"
      }
    },
    {
      "cell_type": "code",
      "source": [
        "def double_elements(numbers):\n",
        "    for i in range(len(numbers)):\n",
        "        numbers[i] = numbers[i] * 2\n",
        "    return numbers\n",
        "\n",
        "numbers = [1, 2, 3, 4]\n",
        "doubled = double_elements(numbers)\n",
        "print(\"Doubled list:\", doubled)\n"
      ],
      "metadata": {
        "id": "ByH_aXtTKcfh"
      },
      "execution_count": null,
      "outputs": []
    },
    {
      "cell_type": "markdown",
      "source": [
        "**03**"
      ],
      "metadata": {
        "id": "icTA9Z3aKwCb"
      }
    },
    {
      "cell_type": "code",
      "source": [
        "import tkinter as tk\n",
        "\n",
        "# Grid configuration\n",
        "ROWS = 10\n",
        "COLS = 10\n",
        "CELL_SIZE = 40\n",
        "ERASER_SIZE = 50\n",
        "\n",
        "class EraserCanvas:\n",
        "    def __init__(self, root):\n",
        "        self.canvas = tk.Canvas(root, width=COLS * CELL_SIZE, height=ROWS * CELL_SIZE, bg='white')\n",
        "        self.canvas.pack()\n",
        "\n",
        "        self.cells = {}  # Store rectangles with their IDs\n",
        "        self.draw_grid()\n",
        "\n",
        "        # Create eraser rectangle\n",
        "        self.eraser = self.canvas.create_rectangle(0, 0, ERASER_SIZE, ERASER_SIZE, outline='red', width=2)\n",
        "\n",
        "        # Bind mouse movement\n",
        "        self.canvas.bind(\"<B1-Motion>\", self.move_eraser)\n",
        "\n",
        "    def draw_grid(self):\n",
        "        for row in range(ROWS):\n",
        "            for col in range(COLS):\n",
        "                x1 = col * CELL_SIZE\n",
        "                y1 = row * CELL_SIZE\n",
        "                x2 = x1 + CELL_SIZE\n",
        "                y2 = y1 + CELL_SIZE\n",
        "                rect = self.canvas.create_rectangle(x1, y1, x2, y2, fill='blue', outline='black')\n",
        "                self.cells[rect] = (x1, y1, x2, y2)\n",
        "\n",
        "    def move_eraser(self, event):\n",
        "        # Update eraser position\n",
        "        x1 = event.x - ERASER_SIZE // 2\n",
        "        y1 = event.y - ERASER_SIZE // 2\n",
        "        x2 = event.x + ERASER_SIZE // 2\n",
        "        y2 = event.y + ERASER_SIZE // 2\n",
        "        self.canvas.coords(self.eraser, x1, y1, x2, y2)\n",
        "\n",
        "        # Check for intersections and \"erase\"\n",
        "        for rect_id, (rx1, ry1, rx2, ry2) in self.cells.items():\n",
        "            if not self.is_erased(rect_id):  # Only try to erase blue cells\n",
        "                if self.intersects((x1, y1, x2, y2), (rx1, ry1, rx2, ry2)):\n",
        "                    self.canvas.itemconfig(rect_id, fill='white')\n",
        "\n",
        "    def is_erased(self, rect_id):\n",
        "        return self.canvas.itemcget(rect_id, \"fill\") == \"white\"\n",
        "\n",
        "    def intersects(self, a, b):\n",
        "        # Check if two rectangles intersect\n",
        "        ax1, ay1, ax2, ay2 = a\n",
        "        bx1, by1, bx2, by2 = b\n",
        "        return not (ax2 < bx1 or ax1 > bx2 or ay2 < by1 or ay1 > by2)\n",
        "\n",
        "root = tk.Tk()\n",
        "root.title(\"Canvas Eraser\")\n",
        "app = EraserCanvas(root)\n",
        "root.mainloop()\n"
      ],
      "metadata": {
        "colab": {
          "base_uri": "https://localhost:8080/",
          "height": 332
        },
        "id": "nnugdFJ9KzES",
        "outputId": "6fe868bf-0f6c-4e05-87b1-ab103bf43dd3"
      },
      "execution_count": 3,
      "outputs": [
        {
          "output_type": "error",
          "ename": "TclError",
          "evalue": "no display name and no $DISPLAY environment variable",
          "traceback": [
            "\u001b[0;31m---------------------------------------------------------------------------\u001b[0m",
            "\u001b[0;31mTclError\u001b[0m                                  Traceback (most recent call last)",
            "\u001b[0;32m<ipython-input-3-2b234d8df7b0>\u001b[0m in \u001b[0;36m<cell line: 0>\u001b[0;34m()\u001b[0m\n\u001b[1;32m     54\u001b[0m         \u001b[0;32mreturn\u001b[0m \u001b[0;32mnot\u001b[0m \u001b[0;34m(\u001b[0m\u001b[0max2\u001b[0m \u001b[0;34m<\u001b[0m \u001b[0mbx1\u001b[0m \u001b[0;32mor\u001b[0m \u001b[0max1\u001b[0m \u001b[0;34m>\u001b[0m \u001b[0mbx2\u001b[0m \u001b[0;32mor\u001b[0m \u001b[0may2\u001b[0m \u001b[0;34m<\u001b[0m \u001b[0mby1\u001b[0m \u001b[0;32mor\u001b[0m \u001b[0may1\u001b[0m \u001b[0;34m>\u001b[0m \u001b[0mby2\u001b[0m\u001b[0;34m)\u001b[0m\u001b[0;34m\u001b[0m\u001b[0;34m\u001b[0m\u001b[0m\n\u001b[1;32m     55\u001b[0m \u001b[0;34m\u001b[0m\u001b[0m\n\u001b[0;32m---> 56\u001b[0;31m \u001b[0mroot\u001b[0m \u001b[0;34m=\u001b[0m \u001b[0mtk\u001b[0m\u001b[0;34m.\u001b[0m\u001b[0mTk\u001b[0m\u001b[0;34m(\u001b[0m\u001b[0;34m)\u001b[0m\u001b[0;34m\u001b[0m\u001b[0;34m\u001b[0m\u001b[0m\n\u001b[0m\u001b[1;32m     57\u001b[0m \u001b[0mroot\u001b[0m\u001b[0;34m.\u001b[0m\u001b[0mtitle\u001b[0m\u001b[0;34m(\u001b[0m\u001b[0;34m\"Canvas Eraser\"\u001b[0m\u001b[0;34m)\u001b[0m\u001b[0;34m\u001b[0m\u001b[0;34m\u001b[0m\u001b[0m\n\u001b[1;32m     58\u001b[0m \u001b[0mapp\u001b[0m \u001b[0;34m=\u001b[0m \u001b[0mEraserCanvas\u001b[0m\u001b[0;34m(\u001b[0m\u001b[0mroot\u001b[0m\u001b[0;34m)\u001b[0m\u001b[0;34m\u001b[0m\u001b[0;34m\u001b[0m\u001b[0m\n",
            "\u001b[0;32m/usr/lib/python3.11/tkinter/__init__.py\u001b[0m in \u001b[0;36m__init__\u001b[0;34m(self, screenName, baseName, className, useTk, sync, use)\u001b[0m\n\u001b[1;32m   2324\u001b[0m                 \u001b[0mbaseName\u001b[0m \u001b[0;34m=\u001b[0m \u001b[0mbaseName\u001b[0m \u001b[0;34m+\u001b[0m \u001b[0mext\u001b[0m\u001b[0;34m\u001b[0m\u001b[0;34m\u001b[0m\u001b[0m\n\u001b[1;32m   2325\u001b[0m         \u001b[0minteractive\u001b[0m \u001b[0;34m=\u001b[0m \u001b[0;32mFalse\u001b[0m\u001b[0;34m\u001b[0m\u001b[0;34m\u001b[0m\u001b[0m\n\u001b[0;32m-> 2326\u001b[0;31m         \u001b[0mself\u001b[0m\u001b[0;34m.\u001b[0m\u001b[0mtk\u001b[0m \u001b[0;34m=\u001b[0m \u001b[0m_tkinter\u001b[0m\u001b[0;34m.\u001b[0m\u001b[0mcreate\u001b[0m\u001b[0;34m(\u001b[0m\u001b[0mscreenName\u001b[0m\u001b[0;34m,\u001b[0m \u001b[0mbaseName\u001b[0m\u001b[0;34m,\u001b[0m \u001b[0mclassName\u001b[0m\u001b[0;34m,\u001b[0m \u001b[0minteractive\u001b[0m\u001b[0;34m,\u001b[0m \u001b[0mwantobjects\u001b[0m\u001b[0;34m,\u001b[0m \u001b[0museTk\u001b[0m\u001b[0;34m,\u001b[0m \u001b[0msync\u001b[0m\u001b[0;34m,\u001b[0m \u001b[0muse\u001b[0m\u001b[0;34m)\u001b[0m\u001b[0;34m\u001b[0m\u001b[0;34m\u001b[0m\u001b[0m\n\u001b[0m\u001b[1;32m   2327\u001b[0m         \u001b[0;32mif\u001b[0m \u001b[0museTk\u001b[0m\u001b[0;34m:\u001b[0m\u001b[0;34m\u001b[0m\u001b[0;34m\u001b[0m\u001b[0m\n\u001b[1;32m   2328\u001b[0m             \u001b[0mself\u001b[0m\u001b[0;34m.\u001b[0m\u001b[0m_loadtk\u001b[0m\u001b[0;34m(\u001b[0m\u001b[0;34m)\u001b[0m\u001b[0;34m\u001b[0m\u001b[0;34m\u001b[0m\u001b[0m\n",
            "\u001b[0;31mTclError\u001b[0m: no display name and no $DISPLAY environment variable"
          ]
        }
      ]
    },
    {
      "cell_type": "markdown",
      "source": [
        "**04**"
      ],
      "metadata": {
        "id": "M7nKZo5-LKzO"
      }
    },
    {
      "cell_type": "code",
      "source": [
        "def add_three_copies(lst, data):\n",
        "    for _ in range(3):\n",
        "        lst.append(data)\n",
        "\n",
        "# Main program\n",
        "message = input(\"Enter a message to copy: \")\n",
        "\n",
        "my_list = []\n",
        "\n",
        "print(\"List before:\", my_list)\n",
        "\n",
        "add_three_copies(my_list, message)\n",
        "\n",
        "print(\"List after:\", my_list)\n"
      ],
      "metadata": {
        "id": "aTGMIDFuLNQ6"
      },
      "execution_count": null,
      "outputs": []
    },
    {
      "cell_type": "markdown",
      "source": [
        "**05**"
      ],
      "metadata": {
        "id": "naLFOeM2LROs"
      }
    },
    {
      "cell_type": "code",
      "source": [
        "def get_first_element(lst):\n",
        "    print(\"The first element in the list is:\", lst[0])\n",
        "\n",
        "# Create an empty list\n",
        "user_list = []\n",
        "\n",
        "# Ask the user how many elements they want to enter\n",
        "n = int(input(\"How many elements will you enter? \"))\n",
        "\n",
        "# Prompt the user to enter elements one by one\n",
        "for i in range(n):\n",
        "    element = input(f\"Enter element {i+1}: \")\n",
        "    user_list.append(element)\n",
        "\n",
        "# Print the first element using the function\n",
        "get_first_element(user_list)\n"
      ],
      "metadata": {
        "id": "FESvJJB0LTR6"
      },
      "execution_count": null,
      "outputs": []
    },
    {
      "cell_type": "markdown",
      "source": [
        "**06**"
      ],
      "metadata": {
        "id": "koPTl6T7LeST"
      }
    },
    {
      "cell_type": "code",
      "source": [
        "def get_last_element(lst):\n",
        "    print(\"The last element in the list is:\", lst[-1])\n",
        "\n",
        "# Create an empty list\n",
        "user_list = []\n",
        "\n",
        "# Ask the user how many elements they want to enter\n",
        "n = int(input(\"How many elements will you enter? \"))\n",
        "\n",
        "# Prompt the user to enter elements one by one\n",
        "for i in range(n):\n",
        "    element = input(f\"Enter element {i+1}: \")\n",
        "    user_list.append(element)\n",
        "\n",
        "# Print the last element using the function\n",
        "get_last_element(user_list)\n"
      ],
      "metadata": {
        "id": "7YSf9wa7LhR8"
      },
      "execution_count": null,
      "outputs": []
    },
    {
      "cell_type": "markdown",
      "source": [
        "**07**"
      ],
      "metadata": {
        "id": "SZjp9_r4LpCm"
      }
    },
    {
      "cell_type": "code",
      "source": [
        "def collect_values():\n",
        "    values = []\n",
        "\n",
        "    while True:\n",
        "        value = input(\"Enter a value: \")\n",
        "        if value == \"\":\n",
        "            break\n",
        "        values.append(value)\n",
        "\n",
        "    print(\"Here's the list:\", values)\n",
        "\n",
        "# Run the function\n",
        "collect_values()\n"
      ],
      "metadata": {
        "id": "YyddQM8ELuy6"
      },
      "execution_count": null,
      "outputs": []
    },
    {
      "cell_type": "markdown",
      "source": [
        "**08**"
      ],
      "metadata": {
        "id": "3s6hhgrkL0pr"
      }
    },
    {
      "cell_type": "code",
      "source": [
        "MAX_LENGTH = 3  # You can change this to test, but keep it 3 for autograder\n",
        "\n",
        "def shorten(lst):\n",
        "    while len(lst) > MAX_LENGTH:\n",
        "        removed = lst.pop()  # Removes the last item\n",
        "        print(\"Removed:\", removed)\n",
        "\n",
        "def main():\n",
        "    user_list = []\n",
        "\n",
        "    n = int(input(\"How many items will you enter? \"))\n",
        "    for i in range(n):\n",
        "        item = input(f\"Enter item {i+1}: \")\n",
        "        user_list.append(item)\n",
        "\n",
        "    print(\"Original list:\", user_list)\n",
        "    shorten(user_list)\n",
        "    print(\"Shortened list:\", user_list)\n",
        "\n",
        "# Run the program\n",
        "main()\n"
      ],
      "metadata": {
        "id": "pqoyTYqOL3K3"
      },
      "execution_count": null,
      "outputs": []
    }
  ]
}