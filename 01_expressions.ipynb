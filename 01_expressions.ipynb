{
  "nbformat": 4,
  "nbformat_minor": 0,
  "metadata": {
    "colab": {
      "provenance": [],
      "authorship_tag": "ABX9TyOMkpBG45//7J6D9O+1lA1Z",
      "include_colab_link": true
    },
    "kernelspec": {
      "name": "python3",
      "display_name": "Python 3"
    },
    "language_info": {
      "name": "python"
    }
  },
  "cells": [
    {
      "cell_type": "markdown",
      "metadata": {
        "id": "view-in-github",
        "colab_type": "text"
      },
      "source": [
        "<a href=\"https://colab.research.google.com/github/Alveenawaqar01/Assignment_04/blob/main/01_expressions.ipynb\" target=\"_parent\"><img src=\"https://colab.research.google.com/assets/colab-badge.svg\" alt=\"Open In Colab\"/></a>"
      ]
    },
    {
      "cell_type": "code",
      "execution_count": null,
      "metadata": {
        "id": "F2GDDGz15sM7"
      },
      "outputs": [],
      "source": []
    },
    {
      "cell_type": "markdown",
      "source": [
        "**01**"
      ],
      "metadata": {
        "id": "C3XhMnf_52Qu"
      }
    },
    {
      "cell_type": "code",
      "source": [
        "import random\n",
        "\n",
        "def roll_dice():\n",
        "    # These variables are local to roll_dice()\n",
        "    die1 = random.randint(1, 6)\n",
        "    die2 = random.randint(1, 6)\n",
        "    print(\"Rolled:\", die1, \"and\", die2)\n",
        "\n",
        "def simulate_rolls():\n",
        "    # Loop to simulate rolling two dice three times\n",
        "    for i in range(3):\n",
        "        print(\"Roll\", i + 1)\n",
        "        roll_dice()\n",
        "\n",
        "# Call the simulation function\n",
        "simulate_rolls()\n"
      ],
      "metadata": {
        "id": "Es3NUxhv55cF"
      },
      "execution_count": null,
      "outputs": []
    },
    {
      "cell_type": "markdown",
      "source": [
        "**02**"
      ],
      "metadata": {
        "id": "u5Uphvvj6HwQ"
      }
    },
    {
      "cell_type": "code",
      "source": [
        "def mass_to_energy():\n",
        "    # Speed of light in meters per second (constant)\n",
        "    C = 299_792_458\n",
        "\n",
        "    while True:\n",
        "        try:\n",
        "            # Prompt user for mass in kilograms\n",
        "            m = float(input(\"Enter kilos of mass: \"))\n",
        "\n",
        "            # Calculate energy using E = m * c^2\n",
        "            E = m * C**2\n",
        "\n",
        "            # Output the results\n",
        "            print(\"\\ne = m * C^2...\\n\")\n",
        "            print(\"m =\", m, \"kg\")\n",
        "            print(\"C =\", C, \"m/s\")\n",
        "            print(f\"{E} joules of energy!\\n\")\n",
        "\n",
        "        except ValueError:\n",
        "            print(\"Please enter a valid number.\\n\")\n",
        "\n",
        "# Call the function\n",
        "mass_to_energy()\n"
      ],
      "metadata": {
        "id": "_nBP_L0L6ML2"
      },
      "execution_count": null,
      "outputs": []
    },
    {
      "cell_type": "markdown",
      "source": [
        "**03**"
      ],
      "metadata": {
        "id": "DnpmTnkN6TZi"
      }
    },
    {
      "cell_type": "code",
      "source": [
        "def feet_to_inches():\n",
        "    # Prompt the user to enter a number of feet\n",
        "    feet = float(input(\"Enter measurement in feet: \"))\n",
        "\n",
        "    # Convert to inches\n",
        "    inches = feet * 12\n",
        "\n",
        "    # Handle singular/plural for display\n",
        "    unit = \"foot\" if feet == 1 else \"feet\"\n",
        "\n",
        "    # Display the result\n",
        "    print(f\"{feet} {unit} is {inches} inches.\")\n",
        "\n",
        "# Call the function\n",
        "feet_to_inches()\n"
      ],
      "metadata": {
        "id": "ymwMYXmU6iqU"
      },
      "execution_count": null,
      "outputs": []
    },
    {
      "cell_type": "markdown",
      "source": [
        "**4**"
      ],
      "metadata": {
        "id": "2j-jPLfN6nmU"
      }
    },
    {
      "cell_type": "code",
      "source": [
        "import math\n",
        "\n",
        "def calculate_hypotenuse():\n",
        "    # Ask for lengths of AB and AC\n",
        "    ab = float(input(\"Enter the length of AB: \"))\n",
        "    ac = float(input(\"Enter the length of AC: \"))\n",
        "\n",
        "    # Calculate the hypotenuse using Pythagorean theorem\n",
        "    bc = math.sqrt(ab**2 + ac**2)\n",
        "\n",
        "    # Output the result\n",
        "    print(\"The length of BC (the hypotenuse) is:\", bc)\n",
        "\n",
        "# Call the function\n",
        "calculate_hypotenuse()\n"
      ],
      "metadata": {
        "id": "vOaedSq16qOj"
      },
      "execution_count": null,
      "outputs": []
    },
    {
      "cell_type": "markdown",
      "source": [
        "**05**"
      ],
      "metadata": {
        "id": "2-4YsoVjRanu"
      }
    },
    {
      "cell_type": "code",
      "source": [
        "def divide_and_remainder():\n",
        "    num1 = int(input(\"Please enter an integer to be divided: \"))\n",
        "    num2 = int(input(\"Please enter an integer to divide by: \"))\n",
        "\n",
        "    quotient = num1 // num2\n",
        "    remainder = num1 % num2\n",
        "\n",
        "    # Print the result\n",
        "    print(f\"The result of this division is {quotient} with a remainder of {remainder}\")\n",
        "\n",
        "# Call the function\n",
        "divide_and_remainder()\n"
      ],
      "metadata": {
        "id": "KbePAbjlRiDw"
      },
      "execution_count": null,
      "outputs": []
    },
    {
      "cell_type": "markdown",
      "source": [
        "**06**"
      ],
      "metadata": {
        "id": "rnYfYkejI87p"
      }
    },
    {
      "cell_type": "code",
      "source": [
        "import random\n",
        "\n",
        "def roll_two_dice():\n",
        "    die1 = random.randint(1, 6)\n",
        "    die2 = random.randint(1, 6)\n",
        "\n",
        "    total = die1 + die2\n",
        "\n",
        "    print(\"You rolled:\")\n",
        "    print(\"Die 1:\", die1)\n",
        "    print(\"Die 2:\", die2)\n",
        "    print(\"Total:\", total)\n",
        "\n",
        "roll_two_dice()\n"
      ],
      "metadata": {
        "colab": {
          "base_uri": "https://localhost:8080/"
        },
        "id": "UyFMPF0UJBTa",
        "outputId": "a701e430-5638-45c5-9870-3534ca49d33a"
      },
      "execution_count": 1,
      "outputs": [
        {
          "output_type": "stream",
          "name": "stdout",
          "text": [
            "You rolled:\n",
            "Die 1: 2\n",
            "Die 2: 4\n",
            "Total: 6\n"
          ]
        }
      ]
    },
    {
      "cell_type": "markdown",
      "source": [
        "**07**"
      ],
      "metadata": {
        "id": "jDpRpiqMJQn-"
      }
    },
    {
      "cell_type": "code",
      "source": [
        "def seconds_in_a_year():\n",
        "    # Constants\n",
        "    DAYS_IN_YEAR = 365\n",
        "    HOURS_IN_DAY = 24\n",
        "    MINUTES_IN_HOUR = 60\n",
        "    SECONDS_IN_MINUTE = 60\n",
        "\n",
        "    seconds = DAYS_IN_YEAR * HOURS_IN_DAY * MINUTES_IN_HOUR * SECONDS_IN_MINUTE\n",
        "\n",
        "    # Print the result\n",
        "    print(f\"There are {seconds} seconds in a year!\")\n",
        "\n",
        "# Call the function\n",
        "seconds_in_a_year()\n"
      ],
      "metadata": {
        "id": "RCUoDlaoJTYG"
      },
      "execution_count": null,
      "outputs": []
    },
    {
      "cell_type": "markdown",
      "source": [
        "**08**"
      ],
      "metadata": {
        "id": "78VkZWpgJXD9"
      }
    },
    {
      "cell_type": "code",
      "source": [
        "def mad_libs():\n",
        "    SENTENCE_START = \"Code in Place is fun. I learned to program and used Python to make my\"\n",
        "\n",
        "    # Get words from the user\n",
        "    adjective = input(\"Please type an adjective and press enter. \")\n",
        "    noun = input(\"Please type a noun and press enter. \")\n",
        "    verb = input(\"Please type a verb and press enter. \")\n",
        "\n",
        "    # Create and print the fun sentence\n",
        "    print(f\"{SENTENCE_START} {adjective} {noun} {verb}!\")\n",
        "\n",
        "# Call the function\n",
        "mad_libs()\n"
      ],
      "metadata": {
        "id": "9ko6f2uTJZuU"
      },
      "execution_count": null,
      "outputs": []
    }
  ]
}