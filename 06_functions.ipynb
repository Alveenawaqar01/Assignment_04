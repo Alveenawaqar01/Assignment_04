{
  "nbformat": 4,
  "nbformat_minor": 0,
  "metadata": {
    "colab": {
      "provenance": [],
      "authorship_tag": "ABX9TyOH3s6UITkBON1GeMnJMNmr",
      "include_colab_link": true
    },
    "kernelspec": {
      "name": "python3",
      "display_name": "Python 3"
    },
    "language_info": {
      "name": "python"
    }
  },
  "cells": [
    {
      "cell_type": "markdown",
      "metadata": {
        "id": "view-in-github",
        "colab_type": "text"
      },
      "source": [
        "<a href=\"https://colab.research.google.com/github/Alveenawaqar01/Assignment_04/blob/main/06_functions.ipynb\" target=\"_parent\"><img src=\"https://colab.research.google.com/assets/colab-badge.svg\" alt=\"Open In Colab\"/></a>"
      ]
    },
    {
      "cell_type": "code",
      "execution_count": null,
      "metadata": {
        "id": "zIvOtsN_Re3D"
      },
      "outputs": [],
      "source": []
    },
    {
      "cell_type": "markdown",
      "source": [
        "00\n"
      ],
      "metadata": {
        "id": "f4h-H6q4Rmjf"
      }
    },
    {
      "cell_type": "code",
      "source": [
        "def find_average(num1, num2):\n",
        "    average = (num1 + num2) / 2\n",
        "    return average\n",
        "\n",
        "# Example usage:\n",
        "number1 = float(input(\"Enter the first number: \"))\n",
        "number2 = float(input(\"Enter the second number: \"))\n",
        "\n",
        "result = find_average(number1, number2)\n",
        "print(f\"The average of {number1} and {number2} is {result}\")\n"
      ],
      "metadata": {
        "id": "sUBz_otWRo6Y"
      },
      "execution_count": null,
      "outputs": []
    },
    {
      "cell_type": "markdown",
      "source": [
        "01"
      ],
      "metadata": {
        "id": "QKYRRY70RzFB"
      }
    },
    {
      "cell_type": "code",
      "source": [
        "import random\n",
        "\n",
        "DONE_LIKELIHOOD = 0.3  # 30% chance to stop counting\n",
        "\n",
        "# Simulate the done function\n",
        "def done():\n",
        "    # Return True with the specified likelihood\n",
        "    return random.random() < DONE_LIKELIHOOD\n",
        "\n",
        "# The function to count chaotically\n",
        "def chaotic_counting():\n",
        "    print(\"I'm going to count until 10 or until I feel like stopping, whichever comes first.\")\n",
        "    for number in range(1, 11):  # Counting from 1 to 10\n",
        "        if done():  # Check if we should stop\n",
        "            return  # Stop the function if done() returns True\n",
        "        print(number)  # Print the number if not done\n",
        "\n",
        "# The main function\n",
        "def main():\n",
        "    chaotic_counting()  # Call the counting function\n",
        "    print(\"I'm done.\")  # Print when counting is done or stopped\n",
        "\n",
        "# Run the program\n",
        "main()\n"
      ],
      "metadata": {
        "id": "-5PwEtSOR0iE"
      },
      "execution_count": null,
      "outputs": []
    },
    {
      "cell_type": "markdown",
      "source": [
        "02"
      ],
      "metadata": {
        "id": "SNCvgGZBR4SF"
      }
    },
    {
      "cell_type": "code",
      "source": [
        "# Function to populate the list and count the even numbers\n",
        "def count_even(lst):\n",
        "    # First, we populate the list\n",
        "    while True:\n",
        "        user_input = input(\"Enter an integer or press enter to stop: \")\n",
        "\n",
        "        # Check if user presses enter without typing anything\n",
        "        if user_input == \"\":\n",
        "            break  # Stop the loop when enter is pressed without any input\n",
        "\n",
        "        # Convert the input to an integer and append to the list\n",
        "        try:\n",
        "            number = int(user_input)\n",
        "            lst.append(number)\n",
        "        except ValueError:\n",
        "            print(\"That's not a valid integer, please try again.\")\n",
        "\n",
        "    # Now, we count the even numbers in the list\n",
        "    even_count = 0\n",
        "    for number in lst:\n",
        "        if number % 2 == 0:\n",
        "            even_count += 1\n",
        "\n",
        "    # Print the result\n",
        "    print(f\"There are {even_count} even numbers in the list.\")\n",
        "\n",
        "# Example run\n",
        "lst = []\n",
        "count_even(lst)\n"
      ],
      "metadata": {
        "id": "zVrX--PyR5We"
      },
      "execution_count": null,
      "outputs": []
    },
    {
      "cell_type": "markdown",
      "source": [
        "03"
      ],
      "metadata": {
        "id": "Q7VCL_nTR8-3"
      }
    },
    {
      "cell_type": "code",
      "source": [
        "# Function to double the input number\n",
        "def double(num):\n",
        "    return num * 2\n",
        "\n",
        "# Main function to get user input and print the result\n",
        "def main():\n",
        "    # Ask the user for a number\n",
        "    num = float(input(\"Enter a number: \"))\n",
        "\n",
        "    # Call the double function and print the result\n",
        "    result = double(num)\n",
        "    print(f\"Double that is {result}\")\n",
        "\n",
        "# Call the main function to run the program\n",
        "main()\n"
      ],
      "metadata": {
        "id": "ARXgGfSvSFgU"
      },
      "execution_count": null,
      "outputs": []
    },
    {
      "cell_type": "markdown",
      "source": [
        "04"
      ],
      "metadata": {
        "id": "bjJpTXLJSG-H"
      }
    },
    {
      "cell_type": "code",
      "source": [
        "# Function to return your name as a string\n",
        "def get_name():\n",
        "    return \"Sophia\"\n",
        "\n",
        "# Main function to print the greeting with your name\n",
        "def main():\n",
        "    name = get_name()  # Get the name from the get_name function\n",
        "    print(f\"Howdy {name} ! 🤠\")  # Print a greeting with the name\n",
        "\n",
        "# Call the main function to run the program\n",
        "main()\n"
      ],
      "metadata": {
        "id": "4LZ5bFVHSN23"
      },
      "execution_count": null,
      "outputs": []
    },
    {
      "cell_type": "markdown",
      "source": [
        "05"
      ],
      "metadata": {
        "id": "Ux4NK39PSPCq"
      }
    },
    {
      "cell_type": "code",
      "source": [
        "for number in range(10, 20):\n",
        "    if number % 2 == 0:\n",
        "        print(f\"{number} even\", end=\" \")\n",
        "    else:\n",
        "        print(f\"{number} odd\", end=\" \")\n"
      ],
      "metadata": {
        "id": "uG0YHcR-SQZ5"
      },
      "execution_count": null,
      "outputs": []
    },
    {
      "cell_type": "markdown",
      "source": [
        "06"
      ],
      "metadata": {
        "id": "j3c-uDCKST9f"
      }
    },
    {
      "cell_type": "code",
      "source": [
        "for number in range(10, 20):\n",
        "    if number % 2 == 0:\n",
        "        print(f\"{number} even\", end=\" \")\n",
        "    else:\n",
        "        print(f\"{number} odd\", end=\" \")\n"
      ],
      "metadata": {
        "id": "VDra0qdrSXZs"
      },
      "execution_count": null,
      "outputs": []
    },
    {
      "cell_type": "markdown",
      "source": [
        "07"
      ],
      "metadata": {
        "id": "10e3UrgySbIr"
      }
    },
    {
      "cell_type": "code",
      "source": [
        "for number in range(10, 20):\n",
        "    if number % 2 == 0:\n",
        "        print(f\"{number} even\", end=\" \")\n",
        "    else:\n",
        "        print(f\"{number} odd\", end=\" \")\n"
      ],
      "metadata": {
        "id": "ciNaOvjIScYx"
      },
      "execution_count": null,
      "outputs": []
    },
    {
      "cell_type": "markdown",
      "source": [
        "08"
      ],
      "metadata": {
        "id": "YcCNy4EYSgFX"
      }
    },
    {
      "cell_type": "code",
      "source": [
        "def make_sentence(word, part_of_speech):\n",
        "    if part_of_speech == 0:\n",
        "        print(f\"I am excited to add this {word} to my vast collection of them!\")\n",
        "    elif part_of_speech == 1:\n",
        "        print(f\"It's so nice outside today it makes me want to {word}!\")\n",
        "    elif part_of_speech == 2:\n",
        "        print(f\"Looking out my window, the sky is big and {word}!\")\n",
        "    else:\n",
        "        print(\"Sorry, that's not a valid part of speech.\")\n",
        "\n",
        "def main():\n",
        "    word = input(\"Please type a noun, verb, or adjective: \")\n",
        "    part = int(input(\"Is this a noun, verb, or adjective? Type 0 for noun, 1 for verb, 2 for adjective: \"))\n",
        "    make_sentence(word, part)\n",
        "\n",
        "main()\n"
      ],
      "metadata": {
        "id": "FS9Rp5DUShX-"
      },
      "execution_count": null,
      "outputs": []
    },
    {
      "cell_type": "markdown",
      "source": [
        "09"
      ],
      "metadata": {
        "id": "BlyMxPmgSkuG"
      }
    },
    {
      "cell_type": "code",
      "source": [
        "def print_ones_digit(num):\n",
        "    ones_digit = num % 10\n",
        "    print(\"The ones digit is\", ones_digit)\n",
        "\n",
        "def main():\n",
        "    num = int(input(\"Enter a number: \"))\n",
        "    print_ones_digit(num)\n",
        "\n",
        "main()\n"
      ],
      "metadata": {
        "id": "vCWcoX7FSl7K"
      },
      "execution_count": null,
      "outputs": []
    },
    {
      "cell_type": "markdown",
      "source": [
        "10\n"
      ],
      "metadata": {
        "id": "vmncm0bySpLu"
      }
    },
    {
      "cell_type": "code",
      "source": [
        "# Define the adult age threshold\n",
        "ADULT_AGE = 18\n",
        "\n",
        "# Define the function to check adulthood\n",
        "def is_adult(age):\n",
        "    return age >= ADULT_AGE\n",
        "\n",
        "# Main function to run the program\n",
        "def main():\n",
        "    age = int(input(\"How old is this person?: \"))\n",
        "    print(is_adult(age))\n",
        "\n",
        "# Call the main function\n",
        "main()\n"
      ],
      "metadata": {
        "id": "cdqmYxdcSqub"
      },
      "execution_count": null,
      "outputs": []
    }
  ]
}