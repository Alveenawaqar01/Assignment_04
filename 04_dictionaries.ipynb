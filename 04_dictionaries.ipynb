{
  "nbformat": 4,
  "nbformat_minor": 0,
  "metadata": {
    "colab": {
      "provenance": [],
      "authorship_tag": "ABX9TyPlMwjBjeq+6PoTPRDEyfzv",
      "include_colab_link": true
    },
    "kernelspec": {
      "name": "python3",
      "display_name": "Python 3"
    },
    "language_info": {
      "name": "python"
    }
  },
  "cells": [
    {
      "cell_type": "markdown",
      "metadata": {
        "id": "view-in-github",
        "colab_type": "text"
      },
      "source": [
        "<a href=\"https://colab.research.google.com/github/Alveenawaqar01/Assignment_04/blob/main/04_dictionaries.ipynb\" target=\"_parent\"><img src=\"https://colab.research.google.com/assets/colab-badge.svg\" alt=\"Open In Colab\"/></a>"
      ]
    },
    {
      "cell_type": "markdown",
      "source": [
        "01\n"
      ],
      "metadata": {
        "id": "4gb-LsnbN7l6"
      }
    },
    {
      "cell_type": "code",
      "source": [
        "def count_numbers():\n",
        "    counts = {}  # Initialize an empty dictionary to store counts\n",
        "\n",
        "    while True:\n",
        "        number = input(\"Enter a number: \")\n",
        "\n",
        "        # Check if the user pressed Enter without entering anything (to stop)\n",
        "        if number == \"\":\n",
        "            break\n",
        "\n",
        "        # Convert input to an integer\n",
        "        number = int(number)\n",
        "\n",
        "        # Update the count for this number\n",
        "        if number in counts:\n",
        "            counts[number] += 1\n",
        "        else:\n",
        "            counts[number] = 1\n",
        "\n",
        "    # Print out the count of each number\n",
        "    for num, count in counts.items():\n",
        "        print(f\"{num} appears {count} times.\")\n",
        "\n",
        "# Run the function\n",
        "count_numbers()\n"
      ],
      "metadata": {
        "id": "VyAbap9qN9es"
      },
      "execution_count": null,
      "outputs": []
    },
    {
      "cell_type": "markdown",
      "source": [
        "02"
      ],
      "metadata": {
        "id": "dKq8Y2anOKP_"
      }
    },
    {
      "cell_type": "code",
      "source": [
        "def add_contact(phonebook):\n",
        "    name = input(\"Enter contact name: \")\n",
        "    phone_number = input(\"Enter phone number: \")\n",
        "    phonebook[name] = phone_number\n",
        "    print(f\"{name} has been added to the phonebook.\")\n",
        "\n",
        "def search_contact(phonebook):\n",
        "    name = input(\"Enter contact name to search: \")\n",
        "    if name in phonebook:\n",
        "        print(f\"{name}'s phone number is: {phonebook[name]}\")\n",
        "    else:\n",
        "        print(f\"{name} not found in the phonebook.\")\n",
        "\n",
        "def display_phonebook(phonebook):\n",
        "    if phonebook:\n",
        "        print(\"\\nPhonebook:\")\n",
        "        for name, phone_number in phonebook.items():\n",
        "            print(f\"{name}: {phone_number}\")\n",
        "    else:\n",
        "        print(\"Phonebook is empty.\")\n",
        "\n",
        "def main():\n",
        "    phonebook = {}  # Initialize an empty dictionary for the phonebook\n",
        "\n",
        "    while True:\n",
        "        print(\"\\nMenu:\")\n",
        "        print(\"1. Add contact\")\n",
        "        print(\"2. Search contact\")\n",
        "        print(\"3. Display phonebook\")\n",
        "        print(\"4. Exit\")\n",
        "\n",
        "        choice = input(\"Choose an option: \")\n",
        "\n",
        "        if choice == \"1\":\n",
        "            add_contact(phonebook)\n",
        "        elif choice == \"2\":\n",
        "            search_contact(phonebook)\n",
        "        elif choice == \"3\":\n",
        "            display_phonebook(phonebook)\n",
        "        elif choice == \"4\":\n",
        "            print(\"Exiting phonebook program.\")\n",
        "            break\n",
        "        else:\n",
        "            print(\"Invalid choice, please try again.\")\n",
        "\n",
        "# Run the main program\n",
        "main()\n"
      ],
      "metadata": {
        "id": "hD-k-WqCOLjF"
      },
      "execution_count": null,
      "outputs": []
    },
    {
      "cell_type": "markdown",
      "source": [
        "03"
      ],
      "metadata": {
        "id": "UXYGalYtORn4"
      }
    },
    {
      "cell_type": "code",
      "source": [
        "def calculate_total_cost():\n",
        "    # Dictionary of fruits and their prices per unit\n",
        "    fruit_prices = {\n",
        "        \"apple\": 1.5,\n",
        "        \"durian\": 5.0,\n",
        "        \"jackfruit\": 2.5,\n",
        "        \"kiwi\": 3.0,\n",
        "        \"rambutan\": 4.0,\n",
        "        \"mango\": 2.0\n",
        "    }\n",
        "\n",
        "    total_cost = 0  # Initialize total cost\n",
        "\n",
        "    # Loop through the dictionary and ask the user for how many of each fruit they want\n",
        "    for fruit, price in fruit_prices.items():\n",
        "        quantity = int(input(f\"How many ({fruit}) do you want?: \"))\n",
        "        total_cost += quantity * price  # Add the cost for the current fruit to total_cost\n",
        "\n",
        "    print(f\"Your total is ${total_cost:.2f}\")  # Print the total cost with 2 decimal places\n",
        "\n",
        "# Run the function\n",
        "calculate_total_cost()\n"
      ],
      "metadata": {
        "id": "oj0AGU7ROS4k"
      },
      "execution_count": null,
      "outputs": []
    },
    {
      "cell_type": "markdown",
      "source": [
        "04"
      ],
      "metadata": {
        "id": "uPvFANmYOr8-"
      }
    },
    {
      "cell_type": "code",
      "source": [
        "# Let's assume that the hash_password function is provided and we use it to hash passwords.\n",
        "# The following `hash_password` is a simple placeholder, typically you'll use a library like hashlib.\n",
        "\n",
        "import hashlib\n",
        "\n",
        "# Hashing function for passwords (SHA256)\n",
        "def hash_password(password):\n",
        "    return hashlib.sha256(password.encode('utf-8')).hexdigest()\n",
        "\n",
        "# Example stored login credentials (email -> hashed password)\n",
        "stored_logins = {\n",
        "    \"user1@example.com\": hash_password(\"password123\"),\n",
        "    \"admin@example.com\": hash_password(\"admin123\"),\n",
        "}\n",
        "\n",
        "# The login function that checks if the email and password match after hashing\n",
        "def login(email, password_to_check):\n",
        "    if email in stored_logins:\n",
        "        # Hash the provided password and compare it to the stored hash\n",
        "        return stored_logins[email] == hash_password(password_to_check)\n",
        "    return False\n",
        "\n",
        "email = input(\"Enter your email: \")\n",
        "password_to_check = input(\"Enter your password: \")\n",
        "\n",
        "if login(email, password_to_check):\n",
        "    print(\"Login successful!\")\n",
        "else:\n",
        "    print(\"Login failed! Incorrect email or password.\")\n"
      ],
      "metadata": {
        "id": "n0UKHhQaOs_5"
      },
      "execution_count": null,
      "outputs": []
    }
  ]
}