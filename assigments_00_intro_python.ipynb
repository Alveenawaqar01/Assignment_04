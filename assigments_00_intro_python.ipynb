{
  "nbformat": 4,
  "nbformat_minor": 0,
  "metadata": {
    "colab": {
      "provenance": [],
      "authorship_tag": "ABX9TyOstjkG9MQjHVpigeNvne9f",
      "include_colab_link": true
    },
    "kernelspec": {
      "name": "python3",
      "display_name": "Python 3"
    },
    "language_info": {
      "name": "python"
    }
  },
  "cells": [
    {
      "cell_type": "markdown",
      "metadata": {
        "id": "view-in-github",
        "colab_type": "text"
      },
      "source": [
        "<a href=\"https://colab.research.google.com/github/Alveenawaqar01/Assignment_04/blob/main/assigments_00_intro_python.ipynb\" target=\"_parent\"><img src=\"https://colab.research.google.com/assets/colab-badge.svg\" alt=\"Open In Colab\"/></a>"
      ]
    },
    {
      "cell_type": "markdown",
      "source": [
        "**001_intro_python**"
      ],
      "metadata": {
        "id": "0frsyX-W0KoH"
      }
    },
    {
      "cell_type": "code",
      "source": [
        "\n",
        "first_number = int(input(\"Enter the first number: \"))\n",
        "\n",
        "\n",
        "second_number = int(input(\"Enter the second number: \"))\n",
        "\n",
        "\n",
        "total_sum = first_number + second_number\n",
        "\n",
        "print(\"The sum of\", first_number, \"and\", second_number, \"is:\", total_sum)\n"
      ],
      "metadata": {
        "colab": {
          "base_uri": "https://localhost:8080/"
        },
        "id": "fVl_EyIK0rsl",
        "outputId": "896a2cca-4fb1-477e-a9f1-2203cf89a0b2"
      },
      "execution_count": 5,
      "outputs": [
        {
          "output_type": "stream",
          "name": "stdout",
          "text": [
            "Enter the first number: 2\n",
            "Enter the second number: 2\n",
            "The sum of 2 and 2 is: 4\n"
          ]
        }
      ]
    },
    {
      "cell_type": "markdown",
      "source": [
        "**02_agrement_bot**"
      ],
      "metadata": {
        "id": "_j6aIrrj1ymK"
      }
    },
    {
      "cell_type": "code",
      "source": [
        "def favorite_animal():\n",
        "    animal = input(\"What's your favorite animal? \")\n",
        "    print(\"My favorite animal is also\", animal + \"!\")\n",
        "\n",
        "# Function call\n",
        "favorite_animal()\n",
        "\n"
      ],
      "metadata": {
        "colab": {
          "base_uri": "https://localhost:8080/"
        },
        "id": "ZFvRmbrS18y6",
        "outputId": "d2610142-fb9c-4d61-b017-ffd3399a73de"
      },
      "execution_count": null,
      "outputs": [
        {
          "output_type": "stream",
          "name": "stdout",
          "text": [
            "What's your favorite animal? cat\n",
            "My favorite animal is also cat!\n"
          ]
        }
      ]
    },
    {
      "cell_type": "markdown",
      "source": [
        "**03_fahrehetit**"
      ],
      "metadata": {
        "id": "d3YFSfzN2Okj"
      }
    },
    {
      "cell_type": "code",
      "source": [
        "def convert_to_celsius():\n",
        "    # Prompt user for temperature in Fahrenheit\n",
        "    degrees_fahrenheit = float(input(\"Enter temperature in Fahrenheit: \"))\n",
        "\n",
        "    # Convert to Celsius\n",
        "    degrees_celsius = (degrees_fahrenheit - 32) * 5.0 / 9.0\n",
        "\n",
        "    # Display the result\n",
        "    print(\"Temperature:\", degrees_fahrenheit, \"F =\", degrees_celsius, \"C\")\n",
        "\n",
        "# Call the function\n",
        "convert_to_celsius()\n"
      ],
      "metadata": {
        "id": "sAj2Wb2R2bdj"
      },
      "execution_count": null,
      "outputs": []
    },
    {
      "cell_type": "markdown",
      "source": [
        "**04**"
      ],
      "metadata": {
        "id": "bo23PqaK3OpX"
      }
    },
    {
      "cell_type": "code",
      "source": [
        "def print_ages():\n",
        "    # Age of Anton\n",
        "    anton = 21\n",
        "\n",
        "    # Beth is 6 years older than Anton\n",
        "    beth = anton + 6\n",
        "\n",
        "    # Chen is 20 years older than Beth\n",
        "    chen = beth + 20\n",
        "\n",
        "    # Drew is as old as Chen's age plus Anton's age\n",
        "    drew = chen + anton\n",
        "\n",
        "    # Ethan is the same age as Chen\n",
        "    ethan = chen\n",
        "\n",
        "    # Print everyone's name and age\n",
        "    print(\"Anton is\", anton)\n",
        "    print(\"Beth is\", beth)\n",
        "    print(\"Chen is\", chen)\n",
        "    print(\"Drew is\", drew)\n",
        "    print(\"Ethan is\", ethan)\n",
        "\n",
        "# Call the function\n",
        "print_ages()\n"
      ],
      "metadata": {
        "id": "wQGR0KWu3SU0"
      },
      "execution_count": null,
      "outputs": []
    },
    {
      "cell_type": "markdown",
      "source": [
        "**05**"
      ],
      "metadata": {
        "id": "VaJrho7g3aQI"
      }
    },
    {
      "cell_type": "code",
      "source": [
        "def calculate_triangle_perimeter():\n",
        "    # Prompt the user for each side length\n",
        "    side1 = float(input(\"What is the length of side 1? \"))\n",
        "    side2 = float(input(\"What is the length of side 2? \"))\n",
        "    side3 = float(input(\"What is the length of side 3? \"))\n",
        "\n",
        "    # Calculate the perimeter\n",
        "    perimeter = side1 + side2 + side3\n",
        "\n",
        "    # Print the perimeter\n",
        "    print(\"The perimeter of the triangle is\", perimeter)\n",
        "\n",
        "# Call the function\n",
        "calculate_triangle_perimeter()\n"
      ],
      "metadata": {
        "id": "9z65KbJd3cvk"
      },
      "execution_count": null,
      "outputs": []
    },
    {
      "cell_type": "markdown",
      "source": [
        "**06**"
      ],
      "metadata": {
        "id": "7kgf9kcm3l9m"
      }
    },
    {
      "cell_type": "code",
      "source": [
        "def print_square():\n",
        "    # Ask the user for a number\n",
        "    number = float(input(\"Type a number to see its square: \"))\n",
        "\n",
        "    # Calculate the square\n",
        "    square = number * number\n",
        "\n",
        "    # Print the result\n",
        "    print(f\"{number} squared is {square}\")\n",
        "\n",
        "# Call the function\n",
        "print_square()\n"
      ],
      "metadata": {
        "id": "fzmhCRq03pLm"
      },
      "execution_count": null,
      "outputs": []
    }
  ]
}