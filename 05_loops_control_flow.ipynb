{
  "nbformat": 4,
  "nbformat_minor": 0,
  "metadata": {
    "colab": {
      "provenance": [],
      "authorship_tag": "ABX9TyOIICrv8rI1LErqHKBxLgFt",
      "include_colab_link": true
    },
    "kernelspec": {
      "name": "python3",
      "display_name": "Python 3"
    },
    "language_info": {
      "name": "python"
    }
  },
  "cells": [
    {
      "cell_type": "markdown",
      "metadata": {
        "id": "view-in-github",
        "colab_type": "text"
      },
      "source": [
        "<a href=\"https://colab.research.google.com/github/Alveenawaqar01/Assignment_04/blob/main/05_loops_control_flow.ipynb\" target=\"_parent\"><img src=\"https://colab.research.google.com/assets/colab-badge.svg\" alt=\"Open In Colab\"/></a>"
      ]
    },
    {
      "cell_type": "code",
      "execution_count": null,
      "metadata": {
        "id": "7B3-n5MNPCsE"
      },
      "outputs": [],
      "source": []
    },
    {
      "cell_type": "markdown",
      "source": [
        "01"
      ],
      "metadata": {
        "id": "q0KTpFy7PJfI"
      }
    },
    {
      "cell_type": "code",
      "source": [
        "import random\n",
        "\n",
        "def guess_my_number():\n",
        "    # The computer picks a random number between 0 and 99\n",
        "    secret_number = random.randint(0, 99)\n",
        "\n",
        "    print(\"I am thinking of a number between 0 and 99...\")\n",
        "\n",
        "    # The game continues until the user guesses the correct number\n",
        "    while True:\n",
        "        # Ask the user to input their guess\n",
        "        guess = int(input(\"Enter a guess: \"))\n",
        "\n",
        "        # Check if the guess is too high, too low, or correct\n",
        "        if guess > secret_number:\n",
        "            print(\"Your guess is too high\")\n",
        "        elif guess < secret_number:\n",
        "            print(\"Your guess is too low\")\n",
        "        else:\n",
        "            print(f\"Congrats! The number was: {secret_number}\")\n",
        "            break  # Exit the loop if the user guesses correctly\n",
        "\n",
        "# Start the game\n",
        "guess_my_number()\n"
      ],
      "metadata": {
        "id": "7VX4FlFePKqZ"
      },
      "execution_count": null,
      "outputs": []
    },
    {
      "cell_type": "markdown",
      "source": [
        "02"
      ],
      "metadata": {
        "id": "XyiO9IZSPP7w"
      }
    },
    {
      "cell_type": "code",
      "source": [
        "# Define the maximum value for the Fibonacci sequence\n",
        "MAX_VALUE = 10000\n",
        "\n",
        "def fibonacci_sequence():\n",
        "    # Start with the first two terms in the Fibonacci sequence\n",
        "    a, b = 0, 1\n",
        "\n",
        "    # Print the terms in the sequence as long as they are less than MAX_VALUE\n",
        "    while a < MAX_VALUE:\n",
        "        print(a, end=\" \")\n",
        "        # Generate the next term in the sequence\n",
        "        a, b = b, a + b\n",
        "\n",
        "# Call the function to print the Fibonacci sequence\n",
        "fibonacci_sequence()\n"
      ],
      "metadata": {
        "id": "7mc29r-wPRP6"
      },
      "execution_count": null,
      "outputs": []
    },
    {
      "cell_type": "markdown",
      "source": [
        "03"
      ],
      "metadata": {
        "id": "kHARmlI_PW7Y"
      }
    },
    {
      "cell_type": "code",
      "source": [
        "# Loop through the first 20 even numbers\n",
        "for i in range(20):\n",
        "    print(i * 2, end=\" \")\n"
      ],
      "metadata": {
        "id": "OSWVnIZsPYeM"
      },
      "execution_count": null,
      "outputs": []
    },
    {
      "cell_type": "markdown",
      "source": [
        "04"
      ],
      "metadata": {
        "id": "Wnd_298cPeS0"
      }
    },
    {
      "cell_type": "code",
      "source": [
        "# Define the correct affirmation\n",
        "affirmation = \"I am capable of doing anything I put my mind to.\"\n",
        "\n",
        "# Keep asking for the affirmation until the user types it correctly\n",
        "while True:\n",
        "    user_input = input(\"Please type the following affirmation: \")\n",
        "\n",
        "    if user_input == affirmation:\n",
        "        print(\"That's right! :)\")\n",
        "        break\n",
        "    else:\n",
        "        print(\"Hmmm That was not the affirmation.\")\n"
      ],
      "metadata": {
        "id": "w1wGCYQiPjpg"
      },
      "execution_count": null,
      "outputs": []
    },
    {
      "cell_type": "markdown",
      "source": [
        "05"
      ],
      "metadata": {
        "id": "X82ceQ7cPk_A"
      }
    },
    {
      "cell_type": "code",
      "source": [
        "# Countdown from 10 to 1\n",
        "for i in range(10, 0, -1):\n",
        "    print(i)\n",
        "\n",
        "# Output Liftoff!\n",
        "print(\"Liftoff!\")\n"
      ],
      "metadata": {
        "id": "iB_qFWmSPnan"
      },
      "execution_count": null,
      "outputs": []
    },
    {
      "cell_type": "markdown",
      "source": [
        "06"
      ],
      "metadata": {
        "id": "WKYn7ZAVPvpO"
      }
    },
    {
      "cell_type": "code",
      "source": [
        "# Prompt the user for a number\n",
        "curr_value = int(input(\"Enter a number: \"))\n",
        "\n",
        "# Loop to double the number until it's 100 or greater\n",
        "while curr_value < 100:\n",
        "    curr_value = curr_value * 2\n",
        "    print(curr_value)\n"
      ],
      "metadata": {
        "id": "UpNhyqS5P2k9"
      },
      "execution_count": null,
      "outputs": []
    }
  ]
}